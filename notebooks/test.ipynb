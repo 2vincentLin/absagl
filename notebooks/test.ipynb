{
 "cells": [
  {
   "cell_type": "code",
   "execution_count": 3,
   "id": "ca1565d3",
   "metadata": {
    "vscode": {
     "languageId": "rust"
    }
   },
   "outputs": [],
   "source": [
    "// add dependencies \n",
    ":dep absagl = { path = \"..\" }\n",
    "\n",
    "extern crate absagl;\n",
    "use absagl::groups::modulo::Modulo;\n",
    "use absagl::groups::permutation::Permutation;\n",
    "use absagl::groups::{Group, GroupElement};\n"
   ]
  },
  {
   "cell_type": "code",
   "execution_count": 4,
   "id": "4bcb85c0",
   "metadata": {
    "vscode": {
     "languageId": "rust"
    }
   },
   "outputs": [
    {
     "name": "stdout",
     "output_type": "stream",
     "text": [
      "Permutation from cycles: [2, 1, 3, 4, 0]\n"
     ]
    }
   ],
   "source": [
    "  let p1 = match Permutation::from_cycles(&vec![vec![0,2,3,4]], 5) {\n",
    "        Ok(p) => {\n",
    "            println!(\"Permutation from cycles: {:?}\", p.mapping);\n",
    "            p\n",
    "        },\n",
    "        Err(e) => {\n",
    "            eprintln!(\"Error creating permutation from cycles: {:?}\", e);\n",
    "            return;\n",
    "        }\n",
    "    };"
   ]
  },
  {
   "cell_type": "code",
   "execution_count": 5,
   "id": "c228c43a",
   "metadata": {
    "vscode": {
     "languageId": "rust"
    }
   },
   "outputs": [
    {
     "name": "stdout",
     "output_type": "stream",
     "text": [
      "Permutation from cycles: [0, 2, 3, 1, 4]\n"
     ]
    }
   ],
   "source": [
    "  let p2 = match Permutation::from_cycles(&vec![vec![1,2,3]], 5) {\n",
    "        Ok(p) => {\n",
    "            println!(\"Permutation from cycles: {:?}\", p.mapping);\n",
    "            p\n",
    "        },\n",
    "        Err(e) => {\n",
    "            eprintln!(\"Error creating permutation from cycles: {:?}\", e);\n",
    "            return;\n",
    "        }\n",
    "    };"
   ]
  },
  {
   "cell_type": "code",
   "execution_count": 6,
   "id": "0f2c9170",
   "metadata": {
    "vscode": {
     "languageId": "rust"
    }
   },
   "outputs": [
    {
     "name": "stdout",
     "output_type": "stream",
     "text": [
      "(1 3 5)(2 4)\n"
     ]
    }
   ],
   "source": [
    "println!(\"{}\",p1.op(&p2));"
   ]
  },
  {
   "cell_type": "code",
   "execution_count": 7,
   "id": "04cf80b9",
   "metadata": {
    "vscode": {
     "languageId": "rust"
    }
   },
   "outputs": [
    {
     "name": "stderr",
     "output_type": "stream",
     "text": [
      "Error creating permutation from cycles: NonDisjointCycles\n"
     ]
    }
   ],
   "source": [
    "  let p3 = match Permutation::from_cycles(&vec![vec![1,2,3] ,vec![3,4]], 5) {\n",
    "        Ok(p) => {\n",
    "            println!(\"Permutation from cycles: {:?}\", p.mapping);\n",
    "            p\n",
    "        },\n",
    "        Err(e) => {\n",
    "            eprintln!(\"Error creating permutation from cycles: {:?}\", e);\n",
    "            return;\n",
    "        }\n",
    "    };"
   ]
  },
  {
   "cell_type": "code",
   "execution_count": 4,
   "id": "bae77baa",
   "metadata": {
    "vscode": {
     "languageId": "rust"
    }
   },
   "outputs": [],
   "source": [
    "// Now you can use your types!\n",
    "let p = match Permutation::from_cycles(&[vec![0,2], vec![4, 5]], 6) {\n",
    "    Ok(p) => {p},\n",
    "    Err(e) => {println!(\"Error creating permutation: {:?}\", e); return; },\n",
    "};"
   ]
  },
  {
   "cell_type": "code",
   "execution_count": 9,
   "id": "d71d3104",
   "metadata": {
    "vscode": {
     "languageId": "rust"
    }
   },
   "outputs": [
    {
     "name": "stdout",
     "output_type": "stream",
     "text": [
      "len of s4 is 362880\n"
     ]
    }
   ],
   "source": [
    "let s4 = match Permutation::generate_group(9) {\n",
    "    Ok(p) => {p},\n",
    "    Err(e) => {\n",
    "        println!(\"Error generating group: {:?}\", e); \n",
    "        return;\n",
    "    },\n",
    "};\n",
    "println!(\"len of s4 is {}\", s4.len());"
   ]
  }
 ],
 "metadata": {
  "kernelspec": {
   "display_name": "Rust",
   "language": "rust",
   "name": "rust"
  },
  "language_info": {
   "codemirror_mode": "rust",
   "file_extension": ".rs",
   "mimetype": "text/rust",
   "name": "Rust",
   "pygment_lexer": "rust",
   "version": ""
  }
 },
 "nbformat": 4,
 "nbformat_minor": 5
}
